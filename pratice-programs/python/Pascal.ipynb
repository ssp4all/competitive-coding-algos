{
 "cells": [
  {
   "cell_type": "code",
   "execution_count": 1,
   "metadata": {},
   "outputs": [
    {
     "name": "stdout",
     "output_type": "stream",
     "text": [
      "Enter No. of rows: \n",
      "3\n",
      "[[1, 1], [1, 1], [1, 2, 1]]\n",
      "              1 \n",
      "           1     1 \n",
      "        1     2     1 \n"
     ]
    }
   ],
   "source": [
    "n = 4\n",
    "print('Enter No. of rows: ')\n",
    "n = int(input())\n",
    "a = []\n",
    "# for i in range(n):\n",
    "#     a.append([])\n",
    "#     a[i] = [0] * 4\n",
    "# print(a)\n",
    "\n",
    "for i in range(n):\n",
    "    a.append([])\n",
    "    a[i].append(1)\n",
    "    for j in range(1,i):\n",
    "        a[i].append(a[i-1][j-1] + a[i-1][j])\n",
    "    if n != 0:\n",
    "        a[i].append(1)\n",
    "print(a)\n",
    "\n",
    "for i in range(n):\n",
    "    print(\"   \" * (n - i), end=\" \", sep=\" \")\n",
    "    for j in range(0, i+1 ):\n",
    "        # print(a[i][j])\n",
    "        print(\"{:5}\".format(a[i][j]), end=\" \", sep=\" \")\n",
    "    print()\n",
    "# print(a[0][2])\n"
   ]
  },
  {
   "cell_type": "code",
   "execution_count": null,
   "metadata": {},
   "outputs": [],
   "source": []
  },
  {
   "cell_type": "code",
   "execution_count": null,
   "metadata": {},
   "outputs": [],
   "source": []
  }
 ],
 "metadata": {
  "kernelspec": {
   "display_name": "Python 3",
   "language": "python",
   "name": "python3"
  },
  "language_info": {
   "codemirror_mode": {
    "name": "ipython",
    "version": 3
   },
   "file_extension": ".py",
   "mimetype": "text/x-python",
   "name": "python",
   "nbconvert_exporter": "python",
   "pygments_lexer": "ipython3",
   "version": "3.6.2"
  }
 },
 "nbformat": 4,
 "nbformat_minor": 2
}
